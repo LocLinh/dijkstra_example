{
 "cells": [
  {
   "attachments": {
    "image-2.png": {
     "image/png": "[encoded data removed]"
    }
   },
   "cell_type": "markdown",
   "metadata": {},
   "source": [
    "![image-2.png](attachment:image-2.png)"
   ]
  },
  {
   "cell_type": "code",
   "execution_count": 7,
   "metadata": {},
   "outputs": [],
   "source": [
    "import collections"
   ]
  },
  {
   "cell_type": "code",
   "execution_count": 24,
   "metadata": {},
   "outputs": [],
   "source": [
    "import string"
   ]
  },
  {
   "cell_type": "code",
   "execution_count": 53,
   "metadata": {},
   "outputs": [],
   "source": [
    "nodes = string.ascii_uppercase[:8]"
   ]
  },
  {
   "cell_type": "markdown",
   "metadata": {},
   "source": [
    "khởi tạo đồ thị\n",
    "\n",
    "['A', 'B', 3] có nghĩa là điểm đầu A, điểm đích B, khoảng cách 3"
   ]
  },
  {
   "cell_type": "code",
   "execution_count": 3,
   "metadata": {},
   "outputs": [],
   "source": [
    "edges = [\n",
    "    ['A', 'B', 3],\n",
    "    ['A', 'D', 2],\n",
    "    ['A', 'E', 1],\n",
    "    ['B', 'A', 3],\n",
    "    ['B', 'E', 2],\n",
    "    ['B', 'C', 9],\n",
    "    ['C', 'B', 9],\n",
    "    ['C', 'F', 4],\n",
    "    ['D', 'A', 2],\n",
    "    ['D', 'G', 3],\n",
    "    ['E', 'A', 1],\n",
    "    ['E', 'B', 2],\n",
    "    ['E', 'F', 6],\n",
    "    ['E', 'G', 5],\n",
    "    ['F', 'E', 6],\n",
    "    ['F', 'C', 4],\n",
    "    ['F', 'H', 1],\n",
    "    ['G', 'D', 3],\n",
    "    ['G', 'E', 5],\n",
    "    ['G', 'H', 8]\n",
    "]"
   ]
  },
  {
   "cell_type": "markdown",
   "metadata": {},
   "source": [
    "chuyển đồ thị sang dạng danh sách cho dễ quản lí"
   ]
  },
  {
   "cell_type": "code",
   "execution_count": 10,
   "metadata": {},
   "outputs": [],
   "source": [
    "graph = collections.defaultdict(list)"
   ]
  },
  {
   "cell_type": "code",
   "execution_count": 12,
   "metadata": {},
   "outputs": [],
   "source": [
    "for edge in edges:\n",
    "    src, des, weight = edge\n",
    "    graph[src].append((des, weight))"
   ]
  },
  {
   "cell_type": "code",
   "execution_count": 13,
   "metadata": {},
   "outputs": [
    {
     "data": {
      "text/plain": [
       "defaultdict(list,\n",
       "            {'A': [('B', 3), ('D', 2), ('E', 1)],\n",
       "             'B': [('A', 3), ('E', 2), ('C', 9)],\n",
       "             'C': [('B', 9), ('F', 4)],\n",
       "             'D': [('A', 2), ('G', 3)],\n",
       "             'E': [('A', 1), ('B', 2), ('F', 6), ('G', 5)],\n",
       "             'F': [('E', 6), ('C', 4), ('H', 1)],\n",
       "             'G': [('D', 3), ('E', 5), ('H', 8)]})"
      ]
     },
     "execution_count": 13,
     "metadata": {},
     "output_type": "execute_result"
    }
   ],
   "source": [
    "graph"
   ]
  },
  {
   "cell_type": "markdown",
   "metadata": {},
   "source": [
    "khởi tạo bảng độ dài từ gốc đến 1 điểm bất kì\n",
    "\n",
    "path có dạng như sau:\\\n",
    "`defaultdict(list,\n",
    "            {'A': inf,\n",
    "             'B': inf, \n",
    "             'C': inf, \n",
    "             'D': inf, \n",
    "             'E': inf, \n",
    "             'F': inf, \n",
    "             'G': inf, \n",
    "             'H': inf})\n",
    "`"
   ]
  },
  {
   "cell_type": "code",
   "execution_count": 129,
   "metadata": {},
   "outputs": [],
   "source": [
    "def create_path():\n",
    "    path = collections.defaultdict(list)\n",
    "    \n",
    "    for node in nodes:\n",
    "        path[node] = float('inf')\n",
    "    \n",
    "    return path"
   ]
  },
  {
   "cell_type": "markdown",
   "metadata": {},
   "source": [
    "khởi đầu bằng việc cho khoảng cách từ điểm đầu đến điểm đầu = 0 (hiển nhiên rồi :)))\\\n",
    "node_task sẽ là điều kiện kết thúc vòng lặp. Lúc đầu node_task gồm tất cả các đỉnh trừ đỉnh khởi đầu.\\\n",
    "sau mỗi vòng lặp node_task sẽ giảm đi 1 đỉnh. số vòng lặp là số đỉnh trong node_task\n",
    "\n",
    "đỉnh để xét (queue) đầu tiên sẽ là đỉnh bắt đầu. queue sẽ được cập nhật lại sau mỗi vòng lặp.\n",
    "\n",
    "trong mỗi vòng lặp của node_task có thêm một vòng lặp để xét quãng đường của mỗi đỉnh tới các đỉnh khác lân cận.\\\n",
    "nếu tổng khoảng cách từ đỉnh bắt đầu tới đỉnh hiện tại đang xét (queue) cộng thêm khoảng cách tới đỉnh lân cận, mà nhỏ hơn quãng đường từ đỉnh bắt đầu đến đỉnh lân cận này đã được tính trước đó thì sẽ lấy giá trị tổng này (vì nó ngắn hơn) và lưu vào path.\\\n",
    "cứ tiếp tục đến khi xét hết các đỉnh lân cận với queue.\n",
    "\n",
    "sau đó tìm giá trị nhỏ nhất trong tất cả các giá trị ở trong path (tìm min_queue_len) và đỉnh tương ứng (min_queue), nhưng phải có ở trong node_task hiện tại để làm queue cho vòng lặp tiếp theo.\n",
    "\n",
    "xóa đỉnh tương ứng queue hiện tại ra khỏi node_task. và tiếp tục vòng lặp."
   ]
  },
  {
   "cell_type": "code",
   "execution_count": 130,
   "metadata": {},
   "outputs": [],
   "source": [
    "def dijkstra(src, graph):\n",
    "    path = create_path()\n",
    "    \n",
    "    nodes_task = nodes\n",
    "    #quãng đường từ một điểm tới chính nó bằng 0\n",
    "    path[src] = 0\n",
    "    #bắt đầu xét quãng đường từ điểm khởi đầu tới các điểm xung quanh\n",
    "    queue = src\n",
    "    #xóa điểm bắt đầu khỏi chuỗi\n",
    "    nodes_task = nodes_task.replace(src, '') \n",
    "    while len(nodes_task) > 0:\n",
    "        for node in nodes_task:\n",
    "            for i in range(len(graph[queue])):\n",
    "                #nếu có đường đi từ điểm đang xét đến các điểm lân cận \n",
    "                #và quãng đường từ điểm mốc đến điểm lân cận này nhỏ hơn quãng đường đã có trước đó thì lấy giá trị nhỏ hơn\n",
    "                if graph[queue][i][0] == node and graph[queue][i][1] + path[queue] < path[node]:\n",
    "                    path[node] = graph[queue][i][1] + path[queue]\n",
    "        min_queue = nodes_task[0]\n",
    "        min_queue_len = path[nodes_task[0]]\n",
    "        for node in nodes_task:\n",
    "            if path[node] < min_queue_len:\n",
    "                min_queue_len = path[node]\n",
    "                min_queue = node\n",
    "        #xóa điểm vừa xét\n",
    "        nodes_task = nodes_task.replace(queue, '')\n",
    "        #điểm tiếp theo\n",
    "        queue = min_queue\n",
    "    return path"
   ]
  },
  {
   "cell_type": "code",
   "execution_count": 131,
   "metadata": {},
   "outputs": [],
   "source": [
    "A_path = dijkstra('A', graph)"
   ]
  },
  {
   "cell_type": "code",
   "execution_count": 132,
   "metadata": {},
   "outputs": [
    {
     "data": {
      "text/plain": [
       "defaultdict(list,\n",
       "            {'A': 0, 'B': 3, 'C': 11, 'D': 2, 'E': 1, 'F': 7, 'G': 5, 'H': 8})"
      ]
     },
     "execution_count": 132,
     "metadata": {},
     "output_type": "execute_result"
    }
   ],
   "source": [
    "A_path"
   ]
  },
  {
   "cell_type": "code",
   "execution_count": 133,
   "metadata": {},
   "outputs": [],
   "source": [
    "B_path = dijkstra('B', graph)"
   ]
  },
  {
   "cell_type": "code",
   "execution_count": 134,
   "metadata": {},
   "outputs": [
    {
     "data": {
      "text/plain": [
       "defaultdict(list,\n",
       "            {'A': 3, 'B': 0, 'C': 9, 'D': 5, 'E': 2, 'F': 8, 'G': 7, 'H': 9})"
      ]
     },
     "execution_count": 134,
     "metadata": {},
     "output_type": "execute_result"
    }
   ],
   "source": [
    "B_path"
   ]
  }
 ],
 "metadata": {
  "kernelspec": {
   "display_name": "Python 3",
   "language": "python",
   "name": "python3"
  },
  "language_info": {
   "codemirror_mode": {
    "name": "ipython",
    "version": 3
   },
   "file_extension": ".py",
   "mimetype": "text/x-python",
   "name": "python",
   "nbconvert_exporter": "python",
   "pygments_lexer": "ipython3",
   "version": "3.7.9"
  }
 },
 "nbformat": 4,
 "nbformat_minor": 4
}
